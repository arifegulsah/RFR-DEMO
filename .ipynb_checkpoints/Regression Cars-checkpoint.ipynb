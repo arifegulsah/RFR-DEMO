{
 "cells": [
  {
   "cell_type": "markdown",
   "id": "d9bb3e28",
   "metadata": {},
   "source": [
    "# GRID SEARCH VE RANDOM FOREST REGRESSION ALGORİTMALARI İLE ARABA FİYATLARI TAHMİNİ\n",
    "\n",
    "Bu yazıda regresyon algoritmalarından birisi olan ***Random Forest Regression*** algoritması ile araba\n",
    "fiyatlarının tahmin edilmesini sağlayacağız.\n",
    "\n",
    "Veri seti olarak kullanacağımız csv dosyasına [buradan](https://github.com/arifegulsah/Regression-Cars/blob/main/cars.csv) ulaşabilirsiniz.\n",
    "<br>\n"
   ]
  },
  {
   "cell_type": "markdown",
   "id": "780f0066",
   "metadata": {},
   "source": [
    "# 1. VERİ ÖNİŞLEME"
   ]
  },
  {
   "cell_type": "code",
   "execution_count": 7,
   "id": "e7cdfcd1",
   "metadata": {},
   "outputs": [
    {
     "data": {
      "text/html": [
       "<div>\n",
       "<style scoped>\n",
       "    .dataframe tbody tr th:only-of-type {\n",
       "        vertical-align: middle;\n",
       "    }\n",
       "\n",
       "    .dataframe tbody tr th {\n",
       "        vertical-align: top;\n",
       "    }\n",
       "\n",
       "    .dataframe thead th {\n",
       "        text-align: right;\n",
       "    }\n",
       "</style>\n",
       "<table border=\"1\" class=\"dataframe\">\n",
       "  <thead>\n",
       "    <tr style=\"text-align: right;\">\n",
       "      <th></th>\n",
       "      <th>age</th>\n",
       "      <th>gender</th>\n",
       "      <th>miles</th>\n",
       "      <th>debt</th>\n",
       "      <th>income</th>\n",
       "      <th>sales</th>\n",
       "    </tr>\n",
       "  </thead>\n",
       "  <tbody>\n",
       "    <tr>\n",
       "      <th>0</th>\n",
       "      <td>28</td>\n",
       "      <td>0</td>\n",
       "      <td>23</td>\n",
       "      <td>0</td>\n",
       "      <td>4099</td>\n",
       "      <td>620</td>\n",
       "    </tr>\n",
       "    <tr>\n",
       "      <th>1</th>\n",
       "      <td>26</td>\n",
       "      <td>0</td>\n",
       "      <td>27</td>\n",
       "      <td>0</td>\n",
       "      <td>2677</td>\n",
       "      <td>1792</td>\n",
       "    </tr>\n",
       "    <tr>\n",
       "      <th>2</th>\n",
       "      <td>30</td>\n",
       "      <td>1</td>\n",
       "      <td>58</td>\n",
       "      <td>41576</td>\n",
       "      <td>6215</td>\n",
       "      <td>27754</td>\n",
       "    </tr>\n",
       "    <tr>\n",
       "      <th>3</th>\n",
       "      <td>26</td>\n",
       "      <td>1</td>\n",
       "      <td>25</td>\n",
       "      <td>43172</td>\n",
       "      <td>7626</td>\n",
       "      <td>28256</td>\n",
       "    </tr>\n",
       "    <tr>\n",
       "      <th>4</th>\n",
       "      <td>20</td>\n",
       "      <td>1</td>\n",
       "      <td>17</td>\n",
       "      <td>6979</td>\n",
       "      <td>8071</td>\n",
       "      <td>4438</td>\n",
       "    </tr>\n",
       "  </tbody>\n",
       "</table>\n",
       "</div>"
      ],
      "text/plain": [
       "   age  gender  miles   debt  income  sales\n",
       "0   28       0     23      0    4099    620\n",
       "1   26       0     27      0    2677   1792\n",
       "2   30       1     58  41576    6215  27754\n",
       "3   26       1     25  43172    7626  28256\n",
       "4   20       1     17   6979    8071   4438"
      ]
     },
     "execution_count": 7,
     "metadata": {},
     "output_type": "execute_result"
    }
   ],
   "source": [
    "import pandas as pd\n",
    "import csv\n",
    "\n",
    "data = \"cars.csv\"\n",
    "data =pd.read_csv(data)\n",
    "data.head()"
   ]
  },
  {
   "cell_type": "markdown",
   "id": "db130234",
   "metadata": {},
   "source": [
    "Bu veri seti 6 farklı sütundan ve 964 farklı satırdan oluşmaktadır. İncelediğimiz zaman satışı yapılmış\n",
    "arabaların yaşları, tipleri, kilometresi, ne kadara satıldığı gibi özelliklerinin bulunduğunu görmekteyiz.\n",
    "Projemizin arabaların satış fiyatlarını tahmin etme üzerine olduğundan da anlaşılacağı üzere, satış fiyatı\n",
    "yani “sales” başlıklı sütunun **classsımız** yani outputumuz, diğer sütunların ise **features** yani girdilerimiz\n",
    "olduğunu anlayabilmekteyiz.\n",
    "<br> <br>\n",
    "Veri ön-işlememizi yapabilmek için yapmamız gereken adımlar:\n",
    "1. Gerekli kütüphanelerimizin ve veri setimizin import edilmesi.\n",
    "2. Veri setimizi sonrasında kullanılabilmesi için features ve class olarak ayrılması.\n",
    "3. Veri setine, yüksek ve düşük sayıları aynı anda içerdiğinden ötürü feature-scaling uygulanması.\n",
    "4. Veri setinin train ve test olarak ayrılması."
   ]
  },
  {
   "cell_type": "code",
   "execution_count": 8,
   "id": "28b39095",
   "metadata": {},
   "outputs": [],
   "source": [
    "import numpy as np\n",
    "import matplotlib.pyplot as plt\n",
    "\n",
    "dataset = pd.read_csv('cars.csv')\n",
    "X = dataset.iloc[:, 0:5].values\n",
    "y = dataset.iloc[:, 5].values\n",
    "\n",
    "from sklearn.preprocessing import StandardScaler\n",
    "sc_X = StandardScaler()\n",
    "X = sc_X.fit_transform(X)\n",
    "\n",
    "from sklearn.model_selection import train_test_split\n",
    "X_train, X_test, y_train, y_test = train_test_split(X, y, test_size = 0.25, random_state = 1)"
   ]
  },
  {
   "cell_type": "markdown",
   "id": "e4da1555",
   "metadata": {},
   "source": [
    "## 2. ALGORİTMANIN KULLANIMI\n"
   ]
  },
  {
   "cell_type": "markdown",
   "id": "2aed2a85",
   "metadata": {},
   "source": [
    "Sıra Random Forest Regression (RFR) algoritmasını kodumuza dahil etme vaktinde.<br><br>\n",
    "RFR algoritması, karar vermek için birden fazla Decision Trees’nin (Karar Ağacı) nitelik özelliklerini\n",
    "kullanan \"Tree\" tabanlı bir algoritmadır. Karar Ağaçları, çok sayıda kayıt içeren bir veri kümesini, bir dizi\n",
    "karar kuralları uygulayarak daha küçük kümelere bölmek için kullanılan bir yapıdır. Yani basit karar\n",
    "verme adımları uygulanarak, büyük miktarlardaki kayıtları, çok küçük kayıt gruplarına bölerek\n",
    "kullanılan bir yapıdır denilebilir. RFR ise, nihai çıktıyı oluşturmak için birden fazla Karar Ağacının çıktısını\n",
    "birleştirmektedir.<br><br>\n",
    "RFR, *scikit-learn* kütüphanesinde ensemble modülünün bir sınıfı olarak tanımlanmıştır. Sınıfımızın ismi\n",
    "ise “RandomForestRegressor”dır. Bu sınıftan yaratacağımız ve **“regressor”** ismini vereceğimiz nesne,\n",
    "bizim makine işimizi yapacak.<br><br>\n",
    "Modelimizi eğitmek için öncelikle bu sınıftan regressor adında bir nesne oluşturuyoruz. Daha sonra bu\n",
    "nesnenin **fit()** metoduna X, y değişkenlerimizi parametre olarak veriyoruz. Böylelikle makinemizi\n",
    "kurmuş oluyoruz."
   ]
  },
  {
   "cell_type": "code",
   "execution_count": 9,
   "id": "0a7ac4ff",
   "metadata": {},
   "outputs": [
    {
     "data": {
      "text/html": [
       "<style>#sk-container-id-1 {color: black;background-color: white;}#sk-container-id-1 pre{padding: 0;}#sk-container-id-1 div.sk-toggleable {background-color: white;}#sk-container-id-1 label.sk-toggleable__label {cursor: pointer;display: block;width: 100%;margin-bottom: 0;padding: 0.3em;box-sizing: border-box;text-align: center;}#sk-container-id-1 label.sk-toggleable__label-arrow:before {content: \"▸\";float: left;margin-right: 0.25em;color: #696969;}#sk-container-id-1 label.sk-toggleable__label-arrow:hover:before {color: black;}#sk-container-id-1 div.sk-estimator:hover label.sk-toggleable__label-arrow:before {color: black;}#sk-container-id-1 div.sk-toggleable__content {max-height: 0;max-width: 0;overflow: hidden;text-align: left;background-color: #f0f8ff;}#sk-container-id-1 div.sk-toggleable__content pre {margin: 0.2em;color: black;border-radius: 0.25em;background-color: #f0f8ff;}#sk-container-id-1 input.sk-toggleable__control:checked~div.sk-toggleable__content {max-height: 200px;max-width: 100%;overflow: auto;}#sk-container-id-1 input.sk-toggleable__control:checked~label.sk-toggleable__label-arrow:before {content: \"▾\";}#sk-container-id-1 div.sk-estimator input.sk-toggleable__control:checked~label.sk-toggleable__label {background-color: #d4ebff;}#sk-container-id-1 div.sk-label input.sk-toggleable__control:checked~label.sk-toggleable__label {background-color: #d4ebff;}#sk-container-id-1 input.sk-hidden--visually {border: 0;clip: rect(1px 1px 1px 1px);clip: rect(1px, 1px, 1px, 1px);height: 1px;margin: -1px;overflow: hidden;padding: 0;position: absolute;width: 1px;}#sk-container-id-1 div.sk-estimator {font-family: monospace;background-color: #f0f8ff;border: 1px dotted black;border-radius: 0.25em;box-sizing: border-box;margin-bottom: 0.5em;}#sk-container-id-1 div.sk-estimator:hover {background-color: #d4ebff;}#sk-container-id-1 div.sk-parallel-item::after {content: \"\";width: 100%;border-bottom: 1px solid gray;flex-grow: 1;}#sk-container-id-1 div.sk-label:hover label.sk-toggleable__label {background-color: #d4ebff;}#sk-container-id-1 div.sk-serial::before {content: \"\";position: absolute;border-left: 1px solid gray;box-sizing: border-box;top: 0;bottom: 0;left: 50%;z-index: 0;}#sk-container-id-1 div.sk-serial {display: flex;flex-direction: column;align-items: center;background-color: white;padding-right: 0.2em;padding-left: 0.2em;position: relative;}#sk-container-id-1 div.sk-item {position: relative;z-index: 1;}#sk-container-id-1 div.sk-parallel {display: flex;align-items: stretch;justify-content: center;background-color: white;position: relative;}#sk-container-id-1 div.sk-item::before, #sk-container-id-1 div.sk-parallel-item::before {content: \"\";position: absolute;border-left: 1px solid gray;box-sizing: border-box;top: 0;bottom: 0;left: 50%;z-index: -1;}#sk-container-id-1 div.sk-parallel-item {display: flex;flex-direction: column;z-index: 1;position: relative;background-color: white;}#sk-container-id-1 div.sk-parallel-item:first-child::after {align-self: flex-end;width: 50%;}#sk-container-id-1 div.sk-parallel-item:last-child::after {align-self: flex-start;width: 50%;}#sk-container-id-1 div.sk-parallel-item:only-child::after {width: 0;}#sk-container-id-1 div.sk-dashed-wrapped {border: 1px dashed gray;margin: 0 0.4em 0.5em 0.4em;box-sizing: border-box;padding-bottom: 0.4em;background-color: white;}#sk-container-id-1 div.sk-label label {font-family: monospace;font-weight: bold;display: inline-block;line-height: 1.2em;}#sk-container-id-1 div.sk-label-container {text-align: center;}#sk-container-id-1 div.sk-container {/* jupyter's `normalize.less` sets `[hidden] { display: none; }` but bootstrap.min.css set `[hidden] { display: none !important; }` so we also need the `!important` here to be able to override the default hidden behavior on the sphinx rendered scikit-learn.org. See: https://github.com/scikit-learn/scikit-learn/issues/21755 */display: inline-block !important;position: relative;}#sk-container-id-1 div.sk-text-repr-fallback {display: none;}</style><div id=\"sk-container-id-1\" class=\"sk-top-container\"><div class=\"sk-text-repr-fallback\"><pre>RandomForestRegressor(n_estimators=50, random_state=1)</pre><b>In a Jupyter environment, please rerun this cell to show the HTML representation or trust the notebook. <br />On GitHub, the HTML representation is unable to render, please try loading this page with nbviewer.org.</b></div><div class=\"sk-container\" hidden><div class=\"sk-item\"><div class=\"sk-estimator sk-toggleable\"><input class=\"sk-toggleable__control sk-hidden--visually\" id=\"sk-estimator-id-1\" type=\"checkbox\" checked><label for=\"sk-estimator-id-1\" class=\"sk-toggleable__label sk-toggleable__label-arrow\">RandomForestRegressor</label><div class=\"sk-toggleable__content\"><pre>RandomForestRegressor(n_estimators=50, random_state=1)</pre></div></div></div></div></div>"
      ],
      "text/plain": [
       "RandomForestRegressor(n_estimators=50, random_state=1)"
      ]
     },
     "execution_count": 9,
     "metadata": {},
     "output_type": "execute_result"
    }
   ],
   "source": [
    "from sklearn.ensemble import RandomForestRegressor\n",
    "regressor = RandomForestRegressor(n_estimators = 50, random_state = 1)\n",
    "regressor.fit(X_train, y_train)"
   ]
  },
  {
   "cell_type": "markdown",
   "id": "90227214",
   "metadata": {},
   "source": [
    "Kodumuzda geçen “n_estimator” parametresi, makinemiz için kaç tane karar ağacı kullanılacağını\n",
    "belirtmeye yaramaktadır. İstenilen herhangi bir değer tanınabilir. Varsayılan değeri 100’dür. Biz burada\n",
    "deneme amaçlı 50 verdik.<br><br>\n",
    "Modelimize vermiş olduğumuz X_train ve y_train değişkenleri ile regressor isimli makinemiz öğrenmiş\n",
    "oldu. Şimdi öğrenimi test etmek amaçlı **predict()** fonksiyonu ile modelin daha önce karşılaşmadığı\n",
    "**X_test** verilerini tahmin ediyoruz. Sonuçlarımızı karşılaştırabilmek için **y_pred** isimli değişkende\n",
    "tutuyoruz. "
   ]
  },
  {
   "cell_type": "code",
   "execution_count": 13,
   "id": "4baac888",
   "metadata": {},
   "outputs": [],
   "source": [
    "y_pred = regressor.predict(X_test)"
   ]
  },
  {
   "cell_type": "markdown",
   "id": "540944da",
   "metadata": {},
   "source": [
    "Şimdi ise “Cross-Validation” tekniği kullanılarak modelimizin performansını daha objektif ve doğru bir\n",
    "şekilde değerlendirelim. Bunun için kullanacağımız fonksiyon cross_val_score()’dur.<br><br>\n",
    "Fonksiyonun dönütünü accuracies ismini verdiğimiz değişkende tutarak Cars veri setimizi 10 farklı\n",
    "parçaya bölelim ve ortalama doğruluk değerlerini hesaplayalım.<br><br>\n",
    "Bu hesaplamalar sonucunda böldüğümüz farklı parçaların performanslarını ayrı ayrı gözlemleyebiliriz\n"
   ]
  },
  {
   "cell_type": "code",
   "execution_count": 14,
   "id": "def53d08",
   "metadata": {},
   "outputs": [
    {
     "data": {
      "text/plain": [
       "0.04166011462440495"
      ]
     },
     "execution_count": 14,
     "metadata": {},
     "output_type": "execute_result"
    }
   ],
   "source": [
    "from sklearn.model_selection import cross_val_score\n",
    "accuracies = cross_val_score(estimator = regressor, X = X_train , y = y_train, cv = 10)\n",
    "accuracies.mean()\n",
    "accuracies.std()"
   ]
  },
  {
   "cell_type": "code",
   "execution_count": 18,
   "id": "6c8fd2a8",
   "metadata": {},
   "outputs": [
    {
     "data": {
      "text/plain": [
       "array([0.89279819, 0.86694113, 0.8570782 , 0.89906074, 0.90129845,\n",
       "       0.90392387, 0.9305184 , 0.93024772, 0.78792764, 0.93059886])"
      ]
     },
     "execution_count": 18,
     "metadata": {},
     "output_type": "execute_result"
    }
   ],
   "source": [
    "accuracies"
   ]
  },
  {
   "cell_type": "markdown",
   "id": "cf8be109",
   "metadata": {},
   "source": [
    "## 3. GRID SEARCH ALGORİTMASI"
   ]
  },
  {
   "cell_type": "markdown",
   "id": "cd821829",
   "metadata": {},
   "source": [
    "Modelimizi geliştirmek için kullandığımız fonskiyonların parametlerinin seçilmesi, modeli tasarlayan\n",
    "kişiye bırakılmıştır. Ne olması gerektiği, modeli tasarlayan kişiye bırakılmış, probleme ve veri setine\n",
    "göre değişiklik gösteren bu parametreler, hiper-parametre olarak adlandırılmaktadır. Hiper\n",
    "parametrelerden bazıları sonsuz sayıda değer alabilecek konumdadırlar. Bununla birlikte biz, problem\n",
    "hakkında sahip olduğumuz ön bilgileri kullanarak hiper parametrelerin alabilecekleri değerler için\n",
    "kendimiz aralıklar belirleyebiliriz.<br><br>\n",
    "**Grid Search** isimli algoritma ile hiper parametre seçim işleminde; belirlenen aralıkta bulunan tüm\n",
    "değerlerin kombinasyonları için makina eğitilip sonuçlar gözlenir. Duruma göre en iyi kombinasyon\n",
    "hiper parametre grubu olarak seçilir.<br><br>\n",
    "Şimdi de modelimizin hangi hiper parametreler ile daha efektif bir sonuç alacağını hızlıca\n",
    "hesaplayabilmek için Grid Search algoritmasını kullanalım.<br><br>\n",
    "Bu algoritmayı doğru bir şekilde kullanabilmek için öncesinde, makinemizi oluştururken kullandığımız\n",
    "ana algoritmanın parametre özelliklerini iyi bilmek gerekmektedir. Bizim bu çalışmamızda kullandığımız\n",
    "Random Forest Regression algortimasının alabileceği parametreleri ve değerlerini şu [linkten](https://scikit-learn.org/stable/modules/generated/sklearn.ensemble.RandomForestRegressor.html)\n",
    "inceleyebiliriz.<br><br>\n",
    "Burdan da görüleceği üzere, n_estimators parametresi haricinde default olarak aldığımız diğer birçok\n",
    "parametre mevcut. Bu parametrelerin her birini Grid Search ile kolaylıkla ve hızlı bir şekilde deneyelim.<br><br><br>\n",
    "Algoritmamız sci-kit kütüphanesinde model_selection modülünün altında bulunmakta ve\n",
    "GriedSearchCV ismindedir. Import ediyoruz."
   ]
  },
  {
   "cell_type": "code",
   "execution_count": 19,
   "id": "4f205992",
   "metadata": {},
   "outputs": [],
   "source": [
    "from sklearn.model_selection import GridSearchCV"
   ]
  },
  {
   "cell_type": "markdown",
   "id": "2f81d3be",
   "metadata": {},
   "source": [
    "Daha sonrasında yapacağımız iş parametrelerimizi belirlemek olacaktır. Bunun için “n_estimators”,\n",
    "“criterion”, ve “max_features” parametrelerimizi ele alalım. "
   ]
  },
  {
   "cell_type": "code",
   "execution_count": 20,
   "id": "224dc4da",
   "metadata": {},
   "outputs": [],
   "source": [
    "parameters = [{'n_estimators': [250], 'criterion': ['mse', 'mae'], 'max_features' : ['auto', 'sqrt', 'log2',\n",
    "None]}]"
   ]
  },
  {
   "cell_type": "markdown",
   "id": "a29fd4d9",
   "metadata": {},
   "source": [
    "Şeklinde yazarak aslında, regressorisimli makinamızda daha önce 50 olarak belirlediğimiz **n_estimators**\n",
    "yani ağaç sayısını **1 ile 250** arasında denemek istediğimizi; **criterion** kısmına **mse** ve **mae** yazarak\n",
    "ortalama kare hatası veya ortalama mutlak hata şeklinde 2 farklı metrik denemek istediğimizi;\n",
    "**max_features** için ise alınabilecek olan **auto, sqrt, log2** ve **None** değerlerinin hepsini denemek\n",
    "istediğimizi belirtmiş oluyoruz.<br><br>\n",
    "Hiper paramterelerimizi istediğimiz şekilde belirledikten sonra sıra geldi bu parametreleri teker teker\n",
    "modelimizde denemeye. Bunun için aşağıdaki kodu yazıyoruz."
   ]
  },
  {
   "cell_type": "code",
   "execution_count": 21,
   "id": "aead7362",
   "metadata": {},
   "outputs": [],
   "source": [
    "grid_search = GridSearchCV(estimator = regressor,\n",
    " param_grid = parameters,\n",
    " scoring = 'r2',\n",
    " cv = 10,\n",
    " n_jobs = -1) "
   ]
  },
  {
   "cell_type": "markdown",
   "id": "7fa0b367",
   "metadata": {},
   "source": [
    "GridSearchCV için girilen değerler:\n",
    "1. estimator = modelimiz\n",
    "2. param_grid = daha önce belirlediğimiz parametreler\n",
    "3. cv = cross-validation stratejisini belirler ve default olarak 5 gelir\n",
    "4. n_jobs = paralel olarak çalıştırılacak iş sayısını belirler, -1 ise tüm işlemcileri kullanmak <br>\n",
    "\n",
    "anlamlarına gelmektedir. Bu ve bunun gibi farklı parametreler de mevcuttur. Yine daha detaylı bir\n",
    "araştırma için aşağıdaki [linkten](https://scikit-learn.org/stable/modules/generated/sklearn.model_selection.GridSearchCV.html) yararlanabiliriz. <br><br>\n",
    "Şimdi de grid_search ismini verdiğimiz veparametrelerini belirlediğimiz yeni modelimize X_train ve\n",
    "y_train verilerimizi fit ediyoruz. Daha sonrasında en iyi doğruluk değerini ve en iyi parametrelerinin\n",
    "hangilerinin olduğu sonucunu aşağıdaki kod yardımıyla elde ediyoruz.\n"
   ]
  },
  {
   "cell_type": "code",
   "execution_count": 22,
   "id": "5742c111",
   "metadata": {},
   "outputs": [
    {
     "name": "stderr",
     "output_type": "stream",
     "text": [
      "C:\\Users\\arife\\anaconda3\\envs\\tf-gpu\\lib\\site-packages\\sklearn\\ensemble\\_forest.py:400: FutureWarning: Criterion 'mse' was deprecated in v1.0 and will be removed in version 1.2. Use `criterion='squared_error'` which is equivalent.\n",
      "  warn(\n"
     ]
    }
   ],
   "source": [
    "grid_search = grid_search.fit(X_train, y_train)\n",
    "best_accuracy = grid_search.best_score_\n",
    "best_parameters = grid_search.best_params_"
   ]
  },
  {
   "cell_type": "code",
   "execution_count": 23,
   "id": "ac0fcd48",
   "metadata": {},
   "outputs": [
    {
     "data": {
      "text/plain": [
       "{'criterion': 'mse', 'max_features': 'sqrt', 'n_estimators': 250}"
      ]
     },
     "execution_count": 23,
     "metadata": {},
     "output_type": "execute_result"
    }
   ],
   "source": [
    "best_parameters"
   ]
  },
  {
   "cell_type": "markdown",
   "id": "bfd9bfef",
   "metadata": {},
   "source": [
    "Bu sonuçlar dahilinde, criterion olarak mse, max_features olarak sqrt ve n_estimators olarak da 250\n",
    "değerlerini kullanmamızın daha başarılı ve doğru sonuçlar verecektir.<br><br>\n",
    "En son olarak da y_test ve y_predict değerlerimizin kıyaslamasını yapmamız gerekmetedir. Bunun için\n",
    "regresyon algoritmalarında r kare hesaplaması denilen bir yöntem vardır. Bu yöntem 0 ile 100 arasında\n",
    "bir değer döndürür ve sonuç 100e yaklaştıkça tahmin edilen değerlerin orjinalleri ile olan yakınlığını\n",
    "temsil etmketedir. Yani 100e ne kadar yakın olursak o kadar kaliteli sonuçlarımız vardır diyebiliriz.\n",
    "<br>Bu projemiz içinde aşağıdaki kodu yazarak r kare işlemini devreye sokabiliriz. Çıktı olarak 0 ve 1 arasında\n",
    "bir sonuç alacağızdır."
   ]
  },
  {
   "cell_type": "code",
   "execution_count": 25,
   "id": "16ff0ec1",
   "metadata": {},
   "outputs": [
    {
     "data": {
      "text/plain": [
       "0.9122362500293558"
      ]
     },
     "execution_count": 25,
     "metadata": {},
     "output_type": "execute_result"
    }
   ],
   "source": [
    "from sklearn.metrics import r2_score\n",
    "rSquare = r2_score(y_test, y_pred)\n",
    "rSquare"
   ]
  },
  {
   "cell_type": "markdown",
   "id": "891b272c",
   "metadata": {},
   "source": [
    "Gördüğümüz üzere aldığımız sonuç 1 değerine oldukça yakın bir yükseklikte. Bu sayede bu modelimizin\n",
    "iyi bir şekilde öğrendiğini ve gelecek denemelerde yeni veri setleri ile başarılı tahminlerde\n",
    "bulunabileceğini söyleyebiliriz."
   ]
  },
  {
   "cell_type": "code",
   "execution_count": null,
   "id": "ff762da3",
   "metadata": {},
   "outputs": [],
   "source": []
  }
 ],
 "metadata": {
  "kernelspec": {
   "display_name": "Python 3 (ipykernel)",
   "language": "python",
   "name": "python3"
  },
  "language_info": {
   "codemirror_mode": {
    "name": "ipython",
    "version": 3
   },
   "file_extension": ".py",
   "mimetype": "text/x-python",
   "name": "python",
   "nbconvert_exporter": "python",
   "pygments_lexer": "ipython3",
   "version": "3.8.13"
  }
 },
 "nbformat": 4,
 "nbformat_minor": 5
}
